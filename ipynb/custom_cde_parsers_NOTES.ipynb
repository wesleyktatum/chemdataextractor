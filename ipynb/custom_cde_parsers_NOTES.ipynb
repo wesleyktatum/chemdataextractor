{
 "cells": [
  {
   "cell_type": "markdown",
   "metadata": {},
   "source": [
    "## This notebook explores and implements the construction of new property parsers for the `ChemDataExtractor` python toolkit.\n",
    "\n",
    "These first cells are directly taken from the tutorial .ipynb at https://github.com/CambridgeMolecularEngineering/chemdataextractor/blob/master/examples/extracting_a_custom_property.ipynb\n",
    "\n",
    "Any comments were added by Wesley Tatum for clarity\n",
    "\n",
    "--------------------"
   ]
  },
  {
   "cell_type": "code",
   "execution_count": 1,
   "metadata": {},
   "outputs": [],
   "source": [
    "import re\n",
    "from chemdataextractor import Document\n",
    "from chemdataextractor.model import Compound\n",
    "from chemdataextractor.doc import Paragraph, Heading\n",
    "from chemdataextractor.model import BaseModel, StringType, ListType, ModelType\n",
    "from chemdataextractor.parse import R, I, W, Optional, merge\n",
    "from chemdataextractor.parse.base import BaseParser\n",
    "from chemdataextractor.utils import first"
   ]
  },
  {
   "cell_type": "code",
   "execution_count": 29,
   "metadata": {},
   "outputs": [
    {
     "data": {
      "text/html": [
       "<div class=\"cde-document\">\n",
       "<h2 class=\"cde-title\">Synthesis of 2,4,6-trinitrotoluene (3a)</h2>\n",
       "<p class=\"cde-paragraph\">The procedure was followed to yield a pale yellow solid (b.p. 240 °C)</p>\n",
       "</div>"
      ],
      "text/plain": [
       "<Document: 2 elements>"
      ]
     },
     "execution_count": 29,
     "metadata": {},
     "output_type": "execute_result"
    }
   ],
   "source": [
    "#create a sample document that emulates the type of sentence that the property\n",
    "#might be listed in in an article\n",
    "d = Document(\n",
    "    Heading(u'Synthesis of 2,4,6-trinitrotoluene (3a)'),\n",
    "    Paragraph(u'The procedure was followed to yield a pale yellow solid (b.p. 240 °C)')\n",
    ")\n",
    "\n",
    "d"
   ]
  },
  {
   "cell_type": "code",
   "execution_count": 30,
   "metadata": {},
   "outputs": [
    {
     "data": {
      "text/plain": [
       "[{'names': ['2,4,6-trinitrotoluene'], 'labels': ['3a'], 'roles': ['product']}]"
      ]
     },
     "execution_count": 30,
     "metadata": {},
     "output_type": "execute_result"
    }
   ],
   "source": [
    "#CDE base classes do not include boiling point extraction, so it only\n",
    "#recognizes the compound name, its label, and its role\n",
    "d.records.serialize()"
   ]
  },
  {
   "cell_type": "code",
   "execution_count": 31,
   "metadata": {},
   "outputs": [],
   "source": [
    "#define a new \"schema\" for the new property and add it to the Compound model\n",
    "#this class definition will be added to cde/cde/model.py\n",
    "\n",
    "#name of property class\n",
    "class BoilingPoint(BaseModel):\n",
    "    #the type of the values that will be assigned to the class's reporting\n",
    "    #as far as I know, it should always be `StringType()`\n",
    "    value = StringType()\n",
    "    units = StringType()\n",
    "    \n",
    "Compound.boiling_points = ListType(ModelType(BoilingPoint))"
   ]
  },
  {
   "cell_type": "code",
   "execution_count": 93,
   "metadata": {},
   "outputs": [],
   "source": [
    "#Define the new property model's text matching using the cde regex classes\n",
    "\n",
    "#from cde/cde/parse/elements.py:\n",
    "#R = Regex: match token text with regex\n",
    "#I = IWord: case insensitive match to token text\n",
    "#W = Word: match token exactly\n",
    "#Optional: not necessary for regex match to occur\n",
    "\n",
    "#from cde/cde/parse/actions.py\n",
    "#merge: join tokens into a single string w/o spaces b/w them\n",
    "\n",
    "#keyword matching for text that triggers value scraping\n",
    "bprefix = (R(u'^b\\.?p\\.?$', re.I) | I(u'boiling') + I(u'point')).hide()\n",
    "\n",
    "#for the reported units and values, make sure to add (u'units') and (u'value')\n",
    "bunits = (W(u'°') + Optional(R(u'^[CFK]\\.?$')))(u'units').add_action(merge)\n",
    "bvalue = R(u'^\\d+(\\.\\d+)?$')(u'value')\n",
    "\n",
    "#combine everything into a single, labeled regex-matching pattern\n",
    "bp = (bprefix + bvalue + bunits)(u'bp')"
   ]
  },
  {
   "cell_type": "code",
   "execution_count": 94,
   "metadata": {},
   "outputs": [],
   "source": [
    "\n",
    "class BpParser(BaseParser):\n",
    "    #make sure to add docstrings, unlike anything in the rest of CDE\n",
    "    #root seems to be the inherited variable for the regex matching pattern\n",
    "    root = bp\n",
    "\n",
    "    #over-write abstract functions to return the boiling point class results\n",
    "    def interpret(self, result, start, end):\n",
    "        compound = Compound(\n",
    "            boiling_points=[\n",
    "                BoilingPoint(\n",
    "                    #Not sure how to interpret this part\n",
    "                    value=first(result.xpath('./value/text()')),\n",
    "                    units=first(result.xpath('./units/text()'))\n",
    "                )\n",
    "            ]\n",
    "        )\n",
    "        yield compound"
   ]
  },
  {
   "cell_type": "code",
   "execution_count": 95,
   "metadata": {},
   "outputs": [],
   "source": [
    "#add the parser to the list of cde parsers\n",
    "Paragraph.parsers = [BpParser()]"
   ]
  },
  {
   "cell_type": "code",
   "execution_count": 96,
   "metadata": {},
   "outputs": [
    {
     "data": {
      "text/plain": [
       "[{'names': ['2,4,6-trinitrotoluene'],\n",
       "  'labels': ['3a'],\n",
       "  'roles': ['product'],\n",
       "  'boiling_points': [{'value': '240', 'units': '°C'}]}]"
      ]
     },
     "execution_count": 96,
     "metadata": {},
     "output_type": "execute_result"
    }
   ],
   "source": [
    "#re-initialize the same document and serialize, which is to apply all parsers\n",
    "#and to report entities, properties, roles, etc.\n",
    "\n",
    "d = Document(\n",
    "    Heading(u'Synthesis of 2,4,6-trinitrotoluene (3a)'),\n",
    "    Paragraph(u'The procedure was followed to yield a pale yellow solid (b.p. 240 °C)')\n",
    ")\n",
    "\n",
    "#now that the BP classes have been added, new properties can be parsed\n",
    "d.records.serialize()"
   ]
  },
  {
   "cell_type": "markdown",
   "metadata": {},
   "source": [
    "## Notes:\n",
    "\n",
    "\n",
    " - Adding parsers and property classes this way are only temporary and last only until the kernel is re-initialized. In order to permanently added these properties to CDE, these need to be added to the package's actual file system\n",
    "   - Property class is added to `cde/cde/model.py` and also initialized within the `Compound()` class at the bottom of the same `model.py`\n",
    "   - Property parser class is added as a separate .py file within to `cde/cde/parse/`. This means that it will have to be imported in `cde/cde/doc/text.py`\n",
    "   - Property parser class needs to be initialized in `cde/cde/doc/text.py` in the `Paragraph()` class definition\n",
    "   - For contextual information, such as the apparatus used to take a measurement, modify `cde/cde/parse/context.py` (make sure to mark contextual = True in parser definition)\n",
    "   \n",
    "   \n",
    " - If I want to extract these properties from tables, they need to be added to `cde/cde/parse/table.py`\n",
    "     - For table extraction, HTML files are needed, not text or pdf\n",
    "   \n",
    "-------------------------------\n",
    "\n",
    "## Now to practice defining another simple property class and parser\n",
    "\n",
    "It would be most useful to practice with properties that are pertinent to corrosion inhibitors, especially properties that show up in a lot of our different interests. I'll practice with one of them:\n",
    "\n",
    " - HOMO (IP)"
   ]
  },
  {
   "cell_type": "code",
   "execution_count": 99,
   "metadata": {},
   "outputs": [],
   "source": [
    "class HOMOLevel(BaseModel):\n",
    "    \"\"\"\n",
    "    \n",
    "    \"\"\"\n",
    "    value = StringType()\n",
    "    units = StringType()\n",
    "    \n",
    "Compound.HOMO_level = ListType(ModelType(HOMOLevel))\n",
    "\n",
    "#keyword matching for text that triggers value scraping\n",
    "prefix = Optional('a') + Optional(I('^HOMO$') | I('HOMO') | I('HOMO level') | I('HOMO energy') | I('HOMO energy level')) + Optional(I('EHOMO')) + Optional(I('of') | I('=') | I('equal to') | I('is'))\n",
    "\n",
    "#for the reported units and values, make sure to add (u'units') and (u'value')\n",
    "units = (R('eV\\.?'))('units')\n",
    "value = (R('^\\-?\\d+(\\.\\d+)?$'))('value')\n",
    "\n",
    "#combine everything into a single, labeled regex-matching pattern\n",
    "homo = (prefix + value + units)('homo')\n",
    "\n",
    "\n",
    "class HOMOParser(BaseParser):\n",
    "    \"\"\"\n",
    "    \n",
    "    \"\"\"\n",
    "    root = homo\n",
    "\n",
    "    #over-write abstract functions to return the boiling point class results\n",
    "    def interpret(self, result, start, end):\n",
    "        compound = Compound(\n",
    "            HOMO_level=[\n",
    "                HOMOLevel(\n",
    "                    value=first(result.xpath('./value/text()')),\n",
    "                    units=first(result.xpath('./units/text()'))\n",
    "                )\n",
    "            ]\n",
    "        )\n",
    "        yield compound\n",
    "        \n",
    "Paragraph.parsers = [HOMOParser()]"
   ]
  },
  {
   "cell_type": "code",
   "execution_count": 2,
   "metadata": {},
   "outputs": [
    {
     "ename": "NameError",
     "evalue": "name 'Document' is not defined",
     "output_type": "error",
     "traceback": [
      "\u001b[0;31m---------------------------------------------------------------------------\u001b[0m",
      "\u001b[0;31mNameError\u001b[0m                                 Traceback (most recent call last)",
      "\u001b[0;32m<ipython-input-2-7cad2809dd00>\u001b[0m in \u001b[0;36m<module>\u001b[0;34m\u001b[0m\n\u001b[0;32m----> 1\u001b[0;31m d = Document(\n\u001b[0m\u001b[1;32m      2\u001b[0m     \u001b[0mHeading\u001b[0m\u001b[0;34m(\u001b[0m\u001b[0;34mu'Molecular energy levels of poly(3-hexylthiophene) (P3HT)'\u001b[0m\u001b[0;34m)\u001b[0m\u001b[0;34m,\u001b[0m\u001b[0;34m\u001b[0m\u001b[0;34m\u001b[0m\u001b[0m\n\u001b[1;32m      3\u001b[0m     \u001b[0mParagraph\u001b[0m\u001b[0;34m(\u001b[0m\u001b[0;34m'P3HT has a HOMO level of -4.9 eV, while the LUMO level is -3.0 eV. This corresponds to a bandgap of 1.9 eV.'\u001b[0m\u001b[0;34m)\u001b[0m\u001b[0;34m,\u001b[0m\u001b[0;34m\u001b[0m\u001b[0;34m\u001b[0m\u001b[0m\n\u001b[1;32m      4\u001b[0m     \u001b[0mParagraph\u001b[0m\u001b[0;34m(\u001b[0m\u001b[0;34mu'For P3HT, EHOMO is -4.9 eV'\u001b[0m\u001b[0;34m)\u001b[0m\u001b[0;34m,\u001b[0m\u001b[0;34m\u001b[0m\u001b[0;34m\u001b[0m\u001b[0m\n\u001b[1;32m      5\u001b[0m     \u001b[0mParagraph\u001b[0m\u001b[0;34m(\u001b[0m\u001b[0;34mu'The gold electrode has a Fermi energy level of -4.9 eV'\u001b[0m\u001b[0;34m)\u001b[0m\u001b[0;34m,\u001b[0m\u001b[0;34m\u001b[0m\u001b[0;34m\u001b[0m\u001b[0m\n",
      "\u001b[0;31mNameError\u001b[0m: name 'Document' is not defined"
     ]
    }
   ],
   "source": [
    "d = Document(\n",
    "    Heading(u'Molecular energy levels of poly(3-hexylthiophene) (P3HT)'),\n",
    "    Paragraph('P3HT has a HOMO level of -4.9 eV, while the LUMO level is -3.0 eV. This corresponds to a bandgap of 1.9 eV.'),\n",
    "    Paragraph(u'For P3HT, EHOMO is -4.9 eV'),\n",
    "    Heading(u'Synthesis of 2,4,6-trinitrotoluene (3a)'),\n",
    "    Paragraph(u'The procedure was followed to yield a pale yellow solid (b.p. 240 °C)')\n",
    ")\n",
    "d"
   ]
  },
  {
   "cell_type": "code",
   "execution_count": 1,
   "metadata": {},
   "outputs": [
    {
     "ename": "NameError",
     "evalue": "name 'd' is not defined",
     "output_type": "error",
     "traceback": [
      "\u001b[0;31m---------------------------------------------------------------------------\u001b[0m",
      "\u001b[0;31mNameError\u001b[0m                                 Traceback (most recent call last)",
      "\u001b[0;32m<ipython-input-1-a47264c3a857>\u001b[0m in \u001b[0;36m<module>\u001b[0;34m\u001b[0m\n\u001b[0;32m----> 1\u001b[0;31m \u001b[0md\u001b[0m\u001b[0;34m.\u001b[0m\u001b[0mrecords\u001b[0m\u001b[0;34m.\u001b[0m\u001b[0mserialize\u001b[0m\u001b[0;34m(\u001b[0m\u001b[0;34m)\u001b[0m\u001b[0;34m\u001b[0m\u001b[0;34m\u001b[0m\u001b[0m\n\u001b[0m",
      "\u001b[0;31mNameError\u001b[0m: name 'd' is not defined"
     ]
    }
   ],
   "source": [
    "d.records.serialize()"
   ]
  },
  {
   "cell_type": "code",
   "execution_count": null,
   "metadata": {},
   "outputs": [],
   "source": []
  },
  {
   "cell_type": "code",
   "execution_count": null,
   "metadata": {},
   "outputs": [],
   "source": []
  },
  {
   "cell_type": "code",
   "execution_count": 3,
   "metadata": {},
   "outputs": [
    {
     "name": "stdout",
     "output_type": "stream",
     "text": [
      "<re.Match object; span=(0, 1), match='/'>\n"
     ]
    }
   ],
   "source": [
    "test_str = '/'\n",
    "\n",
    "print(re.match('/', test_str))"
   ]
  },
  {
   "cell_type": "code",
   "execution_count": null,
   "metadata": {},
   "outputs": [],
   "source": []
  }
 ],
 "metadata": {
  "kernelspec": {
   "display_name": "Python 3",
   "language": "python",
   "name": "python3"
  },
  "language_info": {
   "codemirror_mode": {
    "name": "ipython",
    "version": 3
   },
   "file_extension": ".py",
   "mimetype": "text/x-python",
   "name": "python",
   "nbconvert_exporter": "python",
   "pygments_lexer": "ipython3",
   "version": "3.8.6"
  }
 },
 "nbformat": 4,
 "nbformat_minor": 4
}
