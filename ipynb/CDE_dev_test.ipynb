{
 "cells": [
  {
   "cell_type": "code",
   "execution_count": 1,
   "metadata": {},
   "outputs": [],
   "source": [
    "import os\n",
    "import sys\n",
    "import json\n",
    "import re\n",
    "\n",
    "module_path = os.path.abspath(os.path.join('../'))\n",
    "if module_path not in sys.path:\n",
    "    sys.path.append(module_path)\n",
    "    \n",
    "import custom_cde as cde\n",
    "from custom_cde import Document\n",
    "from custom_cde.doc import Paragraph, Heading\n",
    "# from custom_cde.model import Compound\n",
    "# from custom_cde.model import BaseModel, StringType, ListType, ModelType\n",
    "# from custom_cde.parse import R, I, W, Optional, merge\n",
    "# from custom_cde.parse.base import BaseParser\n",
    "# from custom_cde.utils import first\n",
    "\n",
    "%load_ext autoreload"
   ]
  },
  {
   "cell_type": "code",
   "execution_count": 2,
   "metadata": {},
   "outputs": [
    {
     "data": {
      "text/html": [
       "<div class=\"cde-document\">\n",
       "<h2 class=\"cde-title\">Molecular energy levels of poly(3-hexylthiophene) (P3HT)</h2>\n",
       "<p class=\"cde-paragraph\">P3HT has a HOMO level of -4.9 eV, while the LUMO level is -3.0 eV. This corresponds to a bandgap of 1.9 eV.</p>\n",
       "<p class=\"cde-paragraph\">For P3HT, EHOMO is -4.9 to -5.2 eV</p>\n",
       "<h2 class=\"cde-title\">Synthesis of 2,4,6-trinitrotoluene (3a)</h2>\n",
       "<p class=\"cde-paragraph\">The procedure was followed to yield a pale yellow solid (b.p. 240 °C)</p>\n",
       "</div>"
      ],
      "text/plain": [
       "<Document: 5 elements>"
      ]
     },
     "execution_count": 2,
     "metadata": {},
     "output_type": "execute_result"
    }
   ],
   "source": [
    "d = Document(\n",
    "    Heading('Molecular energy levels of poly(3-hexylthiophene) (P3HT)'),\n",
    "    Paragraph('P3HT has a HOMO level of -4.9 eV, while the LUMO level is -3.0 eV. This corresponds to a bandgap of 1.9 eV.'),\n",
    "    Paragraph('For P3HT, EHOMO is -4.9 to -5.2 eV'),\n",
    "    Heading('Synthesis of 2,4,6-trinitrotoluene (3a)'),\n",
    "    Paragraph('The procedure was followed to yield a pale yellow solid (b.p. 240 °C)')\n",
    ")\n",
    "d"
   ]
  },
  {
   "cell_type": "code",
   "execution_count": 3,
   "metadata": {},
   "outputs": [
    {
     "data": {
      "text/plain": [
       "[{'names': ['2,4,6-trinitrotoluene'], 'labels': ['3a'], 'roles': ['product']},\n",
       " {'names': ['poly(3-hexylthiophene)', 'P3HT'],\n",
       "  'HOMO_level': [{'value': '-4.9', 'units': 'eV'},\n",
       "   {'value': '-3.0', 'units': 'eV'},\n",
       "   {'value': '1.9', 'units': 'eV'},\n",
       "   {'value': '-4.9 to -5.2', 'units': 'eV'}],\n",
       "  'LUMO_level': [{'value': '-4.9', 'units': 'eV'},\n",
       "   {'value': '-3.0', 'units': 'eV'},\n",
       "   {'value': '1.9', 'units': 'eV'},\n",
       "   {'value': '-4.9 to -5.2', 'units': 'eV'}],\n",
       "  'band_gap': [{'value': '-4.9', 'units': 'eV'},\n",
       "   {'value': '-3.0', 'units': 'eV'},\n",
       "   {'value': '1.9', 'units': 'eV'},\n",
       "   {'value': '-4.9 to -5.2', 'units': 'eV'}]}]"
      ]
     },
     "execution_count": 3,
     "metadata": {},
     "output_type": "execute_result"
    }
   ],
   "source": [
    "%autoreload\n",
    "\n",
    "d.records.serialize()"
   ]
  },
  {
   "cell_type": "code",
   "execution_count": null,
   "metadata": {},
   "outputs": [],
   "source": []
  }
 ],
 "metadata": {
  "kernelspec": {
   "display_name": "Python 3",
   "language": "python",
   "name": "python3"
  },
  "language_info": {
   "codemirror_mode": {
    "name": "ipython",
    "version": 3
   },
   "file_extension": ".py",
   "mimetype": "text/x-python",
   "name": "python",
   "nbconvert_exporter": "python",
   "pygments_lexer": "ipython3",
   "version": "3.8.6"
  }
 },
 "nbformat": 4,
 "nbformat_minor": 4
}
