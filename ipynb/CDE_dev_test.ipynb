{
 "cells": [
  {
   "cell_type": "code",
   "execution_count": 1,
   "metadata": {},
   "outputs": [],
   "source": [
    "import os\n",
    "import sys\n",
    "import json\n",
    "import re\n",
    "\n",
    "module_path = os.path.abspath(os.path.join('../'))\n",
    "if module_path not in sys.path:\n",
    "    sys.path.append(module_path)\n",
    "    \n",
    "import custom_cde as cde\n",
    "from custom_cde import Document\n",
    "from custom_cde.doc import Paragraph, Heading\n",
    "# from custom_cde.model import Compound\n",
    "# from custom_cde.model import BaseModel, StringType, ListType, ModelType\n",
    "# from custom_cde.parse import R, I, W, Optional, merge\n",
    "# from custom_cde.parse.base import BaseParser\n",
    "# from custom_cde.utils import first\n",
    "\n",
    "%load_ext autoreload"
   ]
  },
  {
   "cell_type": "code",
   "execution_count": 8,
   "metadata": {},
   "outputs": [
    {
     "data": {
      "text/html": [
       "<div class=\"cde-document\">\n",
       "<h2 class=\"cde-title\">New property phrases</h2>\n",
       "<p class=\"cde-paragraph\">for gold, the Tm is ~1600 °C.</p>\n",
       "<p class=\"cde-paragraph\">the enthalpy of crystallization of P3HT is 27 J/g</p>\n",
       "<p class=\"cde-paragraph\">for P3HT, the M_n is 30 kDa</p>\n",
       "</div>"
      ],
      "text/plain": [
       "<Document: 4 elements>"
      ]
     },
     "execution_count": 8,
     "metadata": {},
     "output_type": "execute_result"
    }
   ],
   "source": [
    "d = Document(\n",
    "#     Heading('Molecular energy levels of poly(3-hexylthiophene) (P3HT)'),\n",
    "#     Paragraph('P3HT has a HOMO level of -4.9 eV, while the LUMO level is -3.0 eV. This corresponds to a bandgap of 1.9 eV.'),\n",
    "#     Paragraph('For P3HT, EHOMO is -4.9 to -5.2 eV'),\n",
    "#     Paragraph('For P3HT, ELUMO is -3.0 to -2.9 eV'),\n",
    "#     Paragraph('for P3ht, the EBandGap is 1.9 to 2.3 eV'),\n",
    "    \n",
    "#     #what about the following sentence doesn't work, compared to the next one?\n",
    "#     Paragraph(u'The gold electrode has a Fermi energy level of 5.1 eV'),\n",
    "#     Paragraph(u'For gold, the Fermi energy level = 5.1 eV'),\n",
    "    \n",
    "#     Heading('Synthesis of 2,4,6-trinitrotoluene (3a)'),\n",
    "#     Paragraph('The procedure was followed to yield a pale yellow solid (b.p. 240 °C)'),\n",
    "    \n",
    "    Heading('New property phrases'),\n",
    "#     Paragraph('the crystallization temperature of gold was found to be ~1600 °C.'),\n",
    "    Paragraph('for gold, the Tm is ~1600 °C.'),\n",
    "#     Paragraph('The melting point of P3HT is 275 ºC.'),\n",
    "#     Paragraph('The Tm of P3HT is 275 ºC.'),\n",
    "#     Paragraph('the boiling point of niacin is 100 ºC.'),\n",
    "#     Paragraph('For niacinamide, the corrosion inhibition efficiency = 90%.'),\n",
    "#     Paragraph('for P3HT, the enthalpy of sublimation is 100 kJ/g'),\n",
    "#     Paragraph('for P3HT, the enthalpy of vaporization is 73 J/g'),\n",
    "    Paragraph('the enthalpy of crystallization of P3HT is 27 J/g'),\n",
    "    Paragraph('for P3HT, the M_n is 30 kDa'),\n",
    "#     Paragraph('for P3HT, the Đ is 1.2.'),\n",
    "#     Paragraph('For P3HT, the modulus is between 1 and 5 GPa')\n",
    ")\n",
    "d"
   ]
  },
  {
   "cell_type": "code",
   "execution_count": 9,
   "metadata": {},
   "outputs": [
    {
     "data": {
      "text/plain": [
       "[{'names': ['gold']},\n",
       " {'melting_points': [{'value': '~1600', 'units': '°C'}]},\n",
       " {'names': ['P3HT'], 'M_n': [{'value': '30', 'units': 'kDa'}]}]"
      ]
     },
     "execution_count": 9,
     "metadata": {},
     "output_type": "execute_result"
    }
   ],
   "source": [
    "%autoreload\n",
    "\n",
    "d.records.serialize()"
   ]
  },
  {
   "cell_type": "code",
   "execution_count": null,
   "metadata": {},
   "outputs": [],
   "source": []
  },
  {
   "cell_type": "code",
   "execution_count": null,
   "metadata": {},
   "outputs": [],
   "source": []
  }
 ],
 "metadata": {
  "kernelspec": {
   "display_name": "Python 3",
   "language": "python",
   "name": "python3"
  },
  "language_info": {
   "codemirror_mode": {
    "name": "ipython",
    "version": 3
   },
   "file_extension": ".py",
   "mimetype": "text/x-python",
   "name": "python",
   "nbconvert_exporter": "python",
   "pygments_lexer": "ipython3",
   "version": "3.8.6"
  }
 },
 "nbformat": 4,
 "nbformat_minor": 4
}
